{
  "cells": [
    {
      "cell_type": "markdown",
      "metadata": {
        "id": "view-in-github",
        "colab_type": "text"
      },
      "source": [
        "<a href=\"https://colab.research.google.com/github/kidrah-git/-Data-Visualisation-/blob/Visulatization/hardik_week5_Simple_RNN.ipynb\" target=\"_parent\"><img src=\"https://colab.research.google.com/assets/colab-badge.svg\" alt=\"Open In Colab\"/></a>"
      ]
    },
    {
      "cell_type": "code",
      "execution_count": 2,
      "id": "a189b155",
      "metadata": {
        "id": "a189b155"
      },
      "outputs": [],
      "source": [
        "import pandas as pd\n",
        "import numpy as np"
      ]
    },
    {
      "cell_type": "code",
      "execution_count": 3,
      "id": "36ae5ff8",
      "metadata": {
        "id": "36ae5ff8"
      },
      "outputs": [],
      "source": [
        "sentences = [\"I feel joyful today\", \"This meal is unpleasant\", \"One day, we are destined to succeed\", \"That movie was terrible\", \"The cost was exorbitant\", \"I dislike crocodiles\", \"It was a brilliant idea\", \"We reached the peak of the tallest mountain\", \"Offering support to those in need is crucial\", \"Stock prices are expected to increase next month\", \"I'm in a cheerful mood today\", \"The food lacks good flavor\", \"Our perseverance will pay off eventually\", \"Watching that film was disappointing\", \"The price felt overly high\", \"Crocodiles are not my favorite\", \"That idea turned out to be amazing\", \"We successfully scaled the highest summit\", \"Helping the less fortunate is our responsibility\", \"The stock market might experience a rise next month\"]"
      ]
    },
    {
      "cell_type": "code",
      "execution_count": 4,
      "id": "f0bfebaa",
      "metadata": {
        "id": "f0bfebaa"
      },
      "outputs": [],
      "source": [
        "label = [1, 0, 1, 0, 0, 0, 1, 1, 1, 1, 1, 0, 1, 0, 0, 0, 1, 1, 1, 1]"
      ]
    },
    {
      "cell_type": "code",
      "execution_count": 5,
      "id": "ae9bddbb",
      "metadata": {
        "id": "ae9bddbb"
      },
      "outputs": [],
      "source": [
        "from tensorflow.keras.preprocessing.text import Tokenizer"
      ]
    },
    {
      "cell_type": "code",
      "execution_count": 6,
      "id": "9716961e",
      "metadata": {
        "id": "9716961e"
      },
      "outputs": [],
      "source": [
        "from tensorflow.keras.preprocessing.sequence import pad_sequences"
      ]
    },
    {
      "cell_type": "code",
      "execution_count": 7,
      "id": "0b78c23c",
      "metadata": {
        "id": "0b78c23c"
      },
      "outputs": [],
      "source": [
        "tokens = Tokenizer(oov_token = 'oov')\n",
        "tokens.fit_on_texts(sentences)"
      ]
    },
    {
      "cell_type": "code",
      "execution_count": 8,
      "id": "82ff6d88",
      "metadata": {
        "id": "82ff6d88"
      },
      "outputs": [],
      "source": [
        "vocab = tokens.word_index"
      ]
    },
    {
      "cell_type": "code",
      "execution_count": 9,
      "id": "5427c859",
      "metadata": {
        "id": "5427c859",
        "outputId": "837f5e6d-8d33-4cac-865f-4b300caa95d1",
        "colab": {
          "base_uri": "https://localhost:8080/"
        }
      },
      "outputs": [
        {
          "output_type": "execute_result",
          "data": {
            "text/plain": [
              "{'oov': 1,\n",
              " 'the': 2,\n",
              " 'to': 3,\n",
              " 'was': 4,\n",
              " 'is': 5,\n",
              " 'we': 6,\n",
              " 'are': 7,\n",
              " 'that': 8,\n",
              " 'a': 9,\n",
              " 'i': 10,\n",
              " 'today': 11,\n",
              " 'crocodiles': 12,\n",
              " 'idea': 13,\n",
              " 'in': 14,\n",
              " 'stock': 15,\n",
              " 'next': 16,\n",
              " 'month': 17,\n",
              " 'our': 18,\n",
              " 'feel': 19,\n",
              " 'joyful': 20,\n",
              " 'this': 21,\n",
              " 'meal': 22,\n",
              " 'unpleasant': 23,\n",
              " 'one': 24,\n",
              " 'day': 25,\n",
              " 'destined': 26,\n",
              " 'succeed': 27,\n",
              " 'movie': 28,\n",
              " 'terrible': 29,\n",
              " 'cost': 30,\n",
              " 'exorbitant': 31,\n",
              " 'dislike': 32,\n",
              " 'it': 33,\n",
              " 'brilliant': 34,\n",
              " 'reached': 35,\n",
              " 'peak': 36,\n",
              " 'of': 37,\n",
              " 'tallest': 38,\n",
              " 'mountain': 39,\n",
              " 'offering': 40,\n",
              " 'support': 41,\n",
              " 'those': 42,\n",
              " 'need': 43,\n",
              " 'crucial': 44,\n",
              " 'prices': 45,\n",
              " 'expected': 46,\n",
              " 'increase': 47,\n",
              " \"i'm\": 48,\n",
              " 'cheerful': 49,\n",
              " 'mood': 50,\n",
              " 'food': 51,\n",
              " 'lacks': 52,\n",
              " 'good': 53,\n",
              " 'flavor': 54,\n",
              " 'perseverance': 55,\n",
              " 'will': 56,\n",
              " 'pay': 57,\n",
              " 'off': 58,\n",
              " 'eventually': 59,\n",
              " 'watching': 60,\n",
              " 'film': 61,\n",
              " 'disappointing': 62,\n",
              " 'price': 63,\n",
              " 'felt': 64,\n",
              " 'overly': 65,\n",
              " 'high': 66,\n",
              " 'not': 67,\n",
              " 'my': 68,\n",
              " 'favorite': 69,\n",
              " 'turned': 70,\n",
              " 'out': 71,\n",
              " 'be': 72,\n",
              " 'amazing': 73,\n",
              " 'successfully': 74,\n",
              " 'scaled': 75,\n",
              " 'highest': 76,\n",
              " 'summit': 77,\n",
              " 'helping': 78,\n",
              " 'less': 79,\n",
              " 'fortunate': 80,\n",
              " 'responsibility': 81,\n",
              " 'market': 82,\n",
              " 'might': 83,\n",
              " 'experience': 84,\n",
              " 'rise': 85}"
            ]
          },
          "metadata": {},
          "execution_count": 9
        }
      ],
      "source": [
        "vocab"
      ]
    },
    {
      "cell_type": "code",
      "source": [
        "tokenizer = Tokenizer()\n",
        "tokenizer.fit_on_texts(sentences)\n",
        "\n",
        "sequence = tokenizer.texts_to_sequences(sentences)\n",
        "\n",
        "print(sequence )"
      ],
      "metadata": {
        "id": "HMdkHzwtJKZf",
        "outputId": "e0af23fd-e21f-4e13-bfd8-7eb57ebd0db9",
        "colab": {
          "base_uri": "https://localhost:8080/"
        }
      },
      "id": "HMdkHzwtJKZf",
      "execution_count": 10,
      "outputs": [
        {
          "output_type": "stream",
          "name": "stdout",
          "text": [
            "[[9, 18, 19, 10], [20, 21, 4, 22], [23, 24, 5, 6, 25, 2, 26], [7, 27, 3, 28], [1, 29, 3, 30], [9, 31, 11], [32, 3, 8, 33, 12], [5, 34, 1, 35, 36, 1, 37, 38], [39, 40, 2, 41, 13, 42, 4, 43], [14, 44, 6, 45, 2, 46, 15, 16], [47, 13, 8, 48, 49, 10], [1, 50, 51, 52, 53], [17, 54, 55, 56, 57, 58], [59, 7, 60, 3, 61], [1, 62, 63, 64, 65], [11, 6, 66, 67, 68], [7, 12, 69, 70, 2, 71, 72], [5, 73, 74, 1, 75, 76], [77, 1, 78, 79, 4, 17, 80], [1, 14, 81, 82, 83, 8, 84, 15, 16]]\n"
          ]
        }
      ]
    },
    {
      "cell_type": "code",
      "source": [
        "print(tokenizer.word_index)"
      ],
      "metadata": {
        "id": "Y_eqQaNPLAZ0",
        "outputId": "8bf9bc27-22fc-4519-ba7b-a76bed7d34c6",
        "colab": {
          "base_uri": "https://localhost:8080/"
        }
      },
      "id": "Y_eqQaNPLAZ0",
      "execution_count": 11,
      "outputs": [
        {
          "output_type": "stream",
          "name": "stdout",
          "text": [
            "{'the': 1, 'to': 2, 'was': 3, 'is': 4, 'we': 5, 'are': 6, 'that': 7, 'a': 8, 'i': 9, 'today': 10, 'crocodiles': 11, 'idea': 12, 'in': 13, 'stock': 14, 'next': 15, 'month': 16, 'our': 17, 'feel': 18, 'joyful': 19, 'this': 20, 'meal': 21, 'unpleasant': 22, 'one': 23, 'day': 24, 'destined': 25, 'succeed': 26, 'movie': 27, 'terrible': 28, 'cost': 29, 'exorbitant': 30, 'dislike': 31, 'it': 32, 'brilliant': 33, 'reached': 34, 'peak': 35, 'of': 36, 'tallest': 37, 'mountain': 38, 'offering': 39, 'support': 40, 'those': 41, 'need': 42, 'crucial': 43, 'prices': 44, 'expected': 45, 'increase': 46, \"i'm\": 47, 'cheerful': 48, 'mood': 49, 'food': 50, 'lacks': 51, 'good': 52, 'flavor': 53, 'perseverance': 54, 'will': 55, 'pay': 56, 'off': 57, 'eventually': 58, 'watching': 59, 'film': 60, 'disappointing': 61, 'price': 62, 'felt': 63, 'overly': 64, 'high': 65, 'not': 66, 'my': 67, 'favorite': 68, 'turned': 69, 'out': 70, 'be': 71, 'amazing': 72, 'successfully': 73, 'scaled': 74, 'highest': 75, 'summit': 76, 'helping': 77, 'less': 78, 'fortunate': 79, 'responsibility': 80, 'market': 81, 'might': 82, 'experience': 83, 'rise': 84}\n"
          ]
        }
      ]
    },
    {
      "cell_type": "code",
      "source": [
        " from tensorflow.keras.preprocessing.sequence import pad_sequences\n",
        "\n",
        " sequence= pad_sequences (sequence,maxlen=6, padding='post', truncating='post')\n",
        "\n",
        " print (sequence)\n"
      ],
      "metadata": {
        "id": "dvzBuRVZLX-o",
        "outputId": "c8bfcd61-e253-48d6-d055-e6e5ce80d474",
        "colab": {
          "base_uri": "https://localhost:8080/"
        }
      },
      "id": "dvzBuRVZLX-o",
      "execution_count": 12,
      "outputs": [
        {
          "output_type": "stream",
          "name": "stdout",
          "text": [
            "[[ 9 18 19 10  0  0]\n",
            " [20 21  4 22  0  0]\n",
            " [23 24  5  6 25  2]\n",
            " [ 7 27  3 28  0  0]\n",
            " [ 1 29  3 30  0  0]\n",
            " [ 9 31 11  0  0  0]\n",
            " [32  3  8 33 12  0]\n",
            " [ 5 34  1 35 36  1]\n",
            " [39 40  2 41 13 42]\n",
            " [14 44  6 45  2 46]\n",
            " [47 13  8 48 49 10]\n",
            " [ 1 50 51 52 53  0]\n",
            " [17 54 55 56 57 58]\n",
            " [59  7 60  3 61  0]\n",
            " [ 1 62 63 64 65  0]\n",
            " [11  6 66 67 68  0]\n",
            " [ 7 12 69 70  2 71]\n",
            " [ 5 73 74  1 75 76]\n",
            " [77  1 78 79  4 17]\n",
            " [ 1 14 81 82 83  8]]\n"
          ]
        }
      ]
    },
    {
      "cell_type": "code",
      "execution_count": 13,
      "id": "9d59ef66",
      "metadata": {
        "id": "9d59ef66"
      },
      "outputs": [],
      "source": [
        "sequence = tokens.texts_to_sequences(sentences)"
      ]
    },
    {
      "cell_type": "code",
      "execution_count": 14,
      "id": "8c05b1df",
      "metadata": {
        "id": "8c05b1df",
        "outputId": "80492b3d-ae0f-4e22-c9d0-6b3a7ccc808a",
        "colab": {
          "base_uri": "https://localhost:8080/"
        }
      },
      "outputs": [
        {
          "output_type": "execute_result",
          "data": {
            "text/plain": [
              "[[10, 19, 20, 11],\n",
              " [21, 22, 5, 23],\n",
              " [24, 25, 6, 7, 26, 3, 27],\n",
              " [8, 28, 4, 29],\n",
              " [2, 30, 4, 31],\n",
              " [10, 32, 12],\n",
              " [33, 4, 9, 34, 13],\n",
              " [6, 35, 2, 36, 37, 2, 38, 39],\n",
              " [40, 41, 3, 42, 14, 43, 5, 44],\n",
              " [15, 45, 7, 46, 3, 47, 16, 17],\n",
              " [48, 14, 9, 49, 50, 11],\n",
              " [2, 51, 52, 53, 54],\n",
              " [18, 55, 56, 57, 58, 59],\n",
              " [60, 8, 61, 4, 62],\n",
              " [2, 63, 64, 65, 66],\n",
              " [12, 7, 67, 68, 69],\n",
              " [8, 13, 70, 71, 3, 72, 73],\n",
              " [6, 74, 75, 2, 76, 77],\n",
              " [78, 2, 79, 80, 5, 18, 81],\n",
              " [2, 15, 82, 83, 84, 9, 85, 16, 17]]"
            ]
          },
          "metadata": {},
          "execution_count": 14
        }
      ],
      "source": [
        "sequence"
      ]
    },
    {
      "cell_type": "code",
      "execution_count": 15,
      "id": "3e49abfa",
      "metadata": {
        "id": "3e49abfa"
      },
      "outputs": [],
      "source": [
        "sequences = pad_sequences(sequence, maxlen=6, padding = 'post', truncating='post')"
      ]
    },
    {
      "cell_type": "code",
      "execution_count": 16,
      "id": "7a4d807d",
      "metadata": {
        "id": "7a4d807d",
        "outputId": "cdba2174-82f0-48cb-b3b5-0174e34c998f",
        "colab": {
          "base_uri": "https://localhost:8080/"
        }
      },
      "outputs": [
        {
          "output_type": "execute_result",
          "data": {
            "text/plain": [
              "array([[10, 19, 20, 11,  0,  0],\n",
              "       [21, 22,  5, 23,  0,  0],\n",
              "       [24, 25,  6,  7, 26,  3],\n",
              "       [ 8, 28,  4, 29,  0,  0],\n",
              "       [ 2, 30,  4, 31,  0,  0],\n",
              "       [10, 32, 12,  0,  0,  0],\n",
              "       [33,  4,  9, 34, 13,  0],\n",
              "       [ 6, 35,  2, 36, 37,  2],\n",
              "       [40, 41,  3, 42, 14, 43],\n",
              "       [15, 45,  7, 46,  3, 47],\n",
              "       [48, 14,  9, 49, 50, 11],\n",
              "       [ 2, 51, 52, 53, 54,  0],\n",
              "       [18, 55, 56, 57, 58, 59],\n",
              "       [60,  8, 61,  4, 62,  0],\n",
              "       [ 2, 63, 64, 65, 66,  0],\n",
              "       [12,  7, 67, 68, 69,  0],\n",
              "       [ 8, 13, 70, 71,  3, 72],\n",
              "       [ 6, 74, 75,  2, 76, 77],\n",
              "       [78,  2, 79, 80,  5, 18],\n",
              "       [ 2, 15, 82, 83, 84,  9]], dtype=int32)"
            ]
          },
          "metadata": {},
          "execution_count": 16
        }
      ],
      "source": [
        "sequences"
      ]
    },
    {
      "cell_type": "code",
      "execution_count": 17,
      "id": "02ef89f4",
      "metadata": {
        "id": "02ef89f4",
        "outputId": "143cee1b-d99c-4e47-de32-a78c8c0cdbd6",
        "colab": {
          "base_uri": "https://localhost:8080/"
        }
      },
      "outputs": [
        {
          "output_type": "execute_result",
          "data": {
            "text/plain": [
              "(20, 6)"
            ]
          },
          "metadata": {},
          "execution_count": 17
        }
      ],
      "source": [
        "sequences.shape"
      ]
    },
    {
      "cell_type": "code",
      "execution_count": 18,
      "id": "d152fbb9",
      "metadata": {
        "id": "d152fbb9",
        "outputId": "b67927e3-f621-4665-82c4-4c6056e5da81",
        "colab": {
          "base_uri": "https://localhost:8080/"
        }
      },
      "outputs": [
        {
          "output_type": "execute_result",
          "data": {
            "text/plain": [
              "20"
            ]
          },
          "metadata": {},
          "execution_count": 18
        }
      ],
      "source": [
        " sequences.shape[0]"
      ]
    },
    {
      "cell_type": "code",
      "execution_count": 19,
      "id": "d000c232",
      "metadata": {
        "id": "d000c232"
      },
      "outputs": [],
      "source": [
        "label = np.array(label).reshape(-1)"
      ]
    },
    {
      "cell_type": "code",
      "execution_count": 20,
      "id": "9a5dc9e7",
      "metadata": {
        "id": "9a5dc9e7"
      },
      "outputs": [],
      "source": [
        "from keras.models import Sequential\n",
        "from keras.layers import SimpleRNN,Dense"
      ]
    },
    {
      "cell_type": "code",
      "execution_count": 21,
      "id": "a40ed9b9",
      "metadata": {
        "id": "a40ed9b9"
      },
      "outputs": [],
      "source": [
        "model = Sequential()"
      ]
    },
    {
      "cell_type": "code",
      "execution_count": 22,
      "id": "8e0aac1c",
      "metadata": {
        "id": "8e0aac1c",
        "outputId": "838e6edf-91f1-488e-8b66-e4d100a6ba91",
        "colab": {
          "base_uri": "https://localhost:8080/"
        }
      },
      "outputs": [
        {
          "output_type": "stream",
          "name": "stderr",
          "text": [
            "/usr/local/lib/python3.10/dist-packages/keras/src/layers/rnn/rnn.py:204: UserWarning: Do not pass an `input_shape`/`input_dim` argument to a layer. When using Sequential models, prefer using an `Input(shape)` object as the first layer in the model instead.\n",
            "  super().__init__(**kwargs)\n"
          ]
        }
      ],
      "source": [
        "model.add(SimpleRNN(1, input_shape=(sequences.shape[1],1), activation = 'relu' ))\n",
        "model.add(Dense(1, activation = 'sigmoid'))"
      ]
    },
    {
      "cell_type": "code",
      "execution_count": 23,
      "id": "0cbefc5c",
      "metadata": {
        "id": "0cbefc5c"
      },
      "outputs": [],
      "source": [
        "model.compile(optimizer='adam', loss='binary_crossentropy', metrics=['accuracy'])\n"
      ]
    },
    {
      "cell_type": "code",
      "execution_count": 24,
      "id": "19f88fde",
      "metadata": {
        "id": "19f88fde",
        "outputId": "25370268-447b-4bc1-ec26-371e765927a2",
        "colab": {
          "base_uri": "https://localhost:8080/"
        }
      },
      "outputs": [
        {
          "output_type": "stream",
          "name": "stdout",
          "text": [
            "Epoch 1/7\n",
            "\u001b[1m1/1\u001b[0m \u001b[32m━━━━━━━━━━━━━━━━━━━━\u001b[0m\u001b[37m\u001b[0m \u001b[1m2s\u001b[0m 2s/step - accuracy: 0.8000 - loss: 0.4738\n",
            "Epoch 2/7\n",
            "\u001b[1m1/1\u001b[0m \u001b[32m━━━━━━━━━━━━━━━━━━━━\u001b[0m\u001b[37m\u001b[0m \u001b[1m0s\u001b[0m 117ms/step - accuracy: 0.7000 - loss: 0.4734\n",
            "Epoch 3/7\n",
            "\u001b[1m1/1\u001b[0m \u001b[32m━━━━━━━━━━━━━━━━━━━━\u001b[0m\u001b[37m\u001b[0m \u001b[1m0s\u001b[0m 51ms/step - accuracy: 0.8000 - loss: 0.4731\n",
            "Epoch 4/7\n",
            "\u001b[1m1/1\u001b[0m \u001b[32m━━━━━━━━━━━━━━━━━━━━\u001b[0m\u001b[37m\u001b[0m \u001b[1m0s\u001b[0m 57ms/step - accuracy: 0.8000 - loss: 0.4728\n",
            "Epoch 5/7\n",
            "\u001b[1m1/1\u001b[0m \u001b[32m━━━━━━━━━━━━━━━━━━━━\u001b[0m\u001b[37m\u001b[0m \u001b[1m0s\u001b[0m 59ms/step - accuracy: 0.8000 - loss: 0.4726\n",
            "Epoch 6/7\n",
            "\u001b[1m1/1\u001b[0m \u001b[32m━━━━━━━━━━━━━━━━━━━━\u001b[0m\u001b[37m\u001b[0m \u001b[1m0s\u001b[0m 58ms/step - accuracy: 0.8000 - loss: 0.4724\n",
            "Epoch 7/7\n",
            "\u001b[1m1/1\u001b[0m \u001b[32m━━━━━━━━━━━━━━━━━━━━\u001b[0m\u001b[37m\u001b[0m \u001b[1m0s\u001b[0m 35ms/step - accuracy: 0.8000 - loss: 0.4722\n"
          ]
        },
        {
          "output_type": "execute_result",
          "data": {
            "text/plain": [
              "<keras.src.callbacks.history.History at 0x7a1113e5f280>"
            ]
          },
          "metadata": {},
          "execution_count": 24
        }
      ],
      "source": [
        "model.fit(sequences, label, epochs=7)"
      ]
    },
    {
      "cell_type": "code",
      "execution_count": 25,
      "id": "04ed8ee1",
      "metadata": {
        "id": "04ed8ee1"
      },
      "outputs": [],
      "source": [
        "test = ['He lives in Italy']"
      ]
    },
    {
      "cell_type": "code",
      "execution_count": 26,
      "id": "08ba61d4",
      "metadata": {
        "id": "08ba61d4"
      },
      "outputs": [],
      "source": [
        "# tokens.fit_on_texts(test)"
      ]
    },
    {
      "cell_type": "code",
      "execution_count": 27,
      "id": "c64dcdd8",
      "metadata": {
        "id": "c64dcdd8"
      },
      "outputs": [],
      "source": [
        "test = tokens.texts_to_sequences(test)"
      ]
    },
    {
      "cell_type": "code",
      "execution_count": 28,
      "id": "4bad7e99",
      "metadata": {
        "id": "4bad7e99"
      },
      "outputs": [],
      "source": [
        "test = pad_sequences(test, padding = 'post', truncating = 'post', maxlen = 6)"
      ]
    },
    {
      "cell_type": "code",
      "execution_count": 29,
      "id": "7783739e",
      "metadata": {
        "id": "7783739e",
        "outputId": "0897ca6f-d0b3-493e-98ee-8a1621758fab",
        "colab": {
          "base_uri": "https://localhost:8080/"
        }
      },
      "outputs": [
        {
          "output_type": "execute_result",
          "data": {
            "text/plain": [
              "array([[ 1,  1, 14,  1,  0,  0]], dtype=int32)"
            ]
          },
          "metadata": {},
          "execution_count": 29
        }
      ],
      "source": [
        "test"
      ]
    },
    {
      "cell_type": "code",
      "execution_count": 30,
      "id": "25fcbf90",
      "metadata": {
        "id": "25fcbf90",
        "outputId": "58186762-32f6-4f5e-aa46-53c29fcbc4e7",
        "colab": {
          "base_uri": "https://localhost:8080/"
        }
      },
      "outputs": [
        {
          "output_type": "execute_result",
          "data": {
            "text/plain": [
              "(1, 6)"
            ]
          },
          "metadata": {},
          "execution_count": 30
        }
      ],
      "source": [
        "test.shape"
      ]
    },
    {
      "cell_type": "code",
      "execution_count": 31,
      "id": "7eaf01c1",
      "metadata": {
        "id": "7eaf01c1",
        "outputId": "2b7147c3-912c-4bca-f701-9e8184a842b6",
        "colab": {
          "base_uri": "https://localhost:8080/"
        }
      },
      "outputs": [
        {
          "output_type": "stream",
          "name": "stdout",
          "text": [
            "\u001b[1m1/1\u001b[0m \u001b[32m━━━━━━━━━━━━━━━━━━━━\u001b[0m\u001b[37m\u001b[0m \u001b[1m0s\u001b[0m 151ms/step\n"
          ]
        },
        {
          "output_type": "execute_result",
          "data": {
            "text/plain": [
              "array([[0.4982501]], dtype=float32)"
            ]
          },
          "metadata": {},
          "execution_count": 31
        }
      ],
      "source": [
        "model.predict(test)"
      ]
    },
    {
      "cell_type": "code",
      "execution_count": 32,
      "id": "175606f1",
      "metadata": {
        "id": "175606f1",
        "outputId": "09faf41a-45a9-4a08-d7c3-c1dec3c7d61a",
        "colab": {
          "base_uri": "https://localhost:8080/"
        }
      },
      "outputs": [
        {
          "output_type": "execute_result",
          "data": {
            "text/plain": [
              "{'oov': 1,\n",
              " 'the': 2,\n",
              " 'to': 3,\n",
              " 'was': 4,\n",
              " 'is': 5,\n",
              " 'we': 6,\n",
              " 'are': 7,\n",
              " 'that': 8,\n",
              " 'a': 9,\n",
              " 'i': 10,\n",
              " 'today': 11,\n",
              " 'crocodiles': 12,\n",
              " 'idea': 13,\n",
              " 'in': 14,\n",
              " 'stock': 15,\n",
              " 'next': 16,\n",
              " 'month': 17,\n",
              " 'our': 18,\n",
              " 'feel': 19,\n",
              " 'joyful': 20,\n",
              " 'this': 21,\n",
              " 'meal': 22,\n",
              " 'unpleasant': 23,\n",
              " 'one': 24,\n",
              " 'day': 25,\n",
              " 'destined': 26,\n",
              " 'succeed': 27,\n",
              " 'movie': 28,\n",
              " 'terrible': 29,\n",
              " 'cost': 30,\n",
              " 'exorbitant': 31,\n",
              " 'dislike': 32,\n",
              " 'it': 33,\n",
              " 'brilliant': 34,\n",
              " 'reached': 35,\n",
              " 'peak': 36,\n",
              " 'of': 37,\n",
              " 'tallest': 38,\n",
              " 'mountain': 39,\n",
              " 'offering': 40,\n",
              " 'support': 41,\n",
              " 'those': 42,\n",
              " 'need': 43,\n",
              " 'crucial': 44,\n",
              " 'prices': 45,\n",
              " 'expected': 46,\n",
              " 'increase': 47,\n",
              " \"i'm\": 48,\n",
              " 'cheerful': 49,\n",
              " 'mood': 50,\n",
              " 'food': 51,\n",
              " 'lacks': 52,\n",
              " 'good': 53,\n",
              " 'flavor': 54,\n",
              " 'perseverance': 55,\n",
              " 'will': 56,\n",
              " 'pay': 57,\n",
              " 'off': 58,\n",
              " 'eventually': 59,\n",
              " 'watching': 60,\n",
              " 'film': 61,\n",
              " 'disappointing': 62,\n",
              " 'price': 63,\n",
              " 'felt': 64,\n",
              " 'overly': 65,\n",
              " 'high': 66,\n",
              " 'not': 67,\n",
              " 'my': 68,\n",
              " 'favorite': 69,\n",
              " 'turned': 70,\n",
              " 'out': 71,\n",
              " 'be': 72,\n",
              " 'amazing': 73,\n",
              " 'successfully': 74,\n",
              " 'scaled': 75,\n",
              " 'highest': 76,\n",
              " 'summit': 77,\n",
              " 'helping': 78,\n",
              " 'less': 79,\n",
              " 'fortunate': 80,\n",
              " 'responsibility': 81,\n",
              " 'market': 82,\n",
              " 'might': 83,\n",
              " 'experience': 84,\n",
              " 'rise': 85}"
            ]
          },
          "metadata": {},
          "execution_count": 32
        }
      ],
      "source": [
        "tokens.word_index"
      ]
    }
  ],
  "metadata": {
    "kernelspec": {
      "display_name": "Python 3 (ipykernel)",
      "language": "python",
      "name": "python3"
    },
    "language_info": {
      "codemirror_mode": {
        "name": "ipython",
        "version": 3
      },
      "file_extension": ".py",
      "mimetype": "text/x-python",
      "name": "python",
      "nbconvert_exporter": "python",
      "pygments_lexer": "ipython3",
      "version": "3.10.12"
    },
    "colab": {
      "provenance": [],
      "include_colab_link": true
    }
  },
  "nbformat": 4,
  "nbformat_minor": 5
}